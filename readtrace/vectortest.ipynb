{
 "cells": [
  {
   "cell_type": "code",
   "execution_count": 14,
   "metadata": {
    "pycharm": {
     "is_executing": false
    }
   },
   "outputs": [],
   "source": [
    "# Import relevant packages\n",
    "import sklearn\n",
    "from sklearn.feature_extraction.text import CountVectorizer, TfidfVectorizer"
   ]
  },
  {
   "cell_type": "code",
   "execution_count": 25,
   "metadata": {},
   "outputs": [],
   "source": [
    "dataset = []\n",
    "fns = []\n",
    "for line in open('dataset-example.csv'):\n",
    "    fn, txt = line.split('|')\n",
    "    fns.append(fn)\n",
    "    dataset.append(txt)\n"
   ]
  },
  {
   "cell_type": "code",
   "execution_count": 41,
   "metadata": {},
   "outputs": [],
   "source": [
    "count_vect = CountVectorizer()\n",
    "X_train_counts = count_vect.fit_transform(dataset)\n",
    "tf = TfidfVectorizer()\n",
    "tfidf_matrix = tf.fit_transform(dataset)"
   ]
  },
  {
   "cell_type": "code",
   "execution_count": 42,
   "metadata": {},
   "outputs": [
    {
     "ename": "NameError",
     "evalue": "name 'doc' is not defined",
     "output_type": "error",
     "traceback": [
      "\u001b[1;31m---------------------------------------------------------------------------\u001b[0m",
      "\u001b[1;31mNameError\u001b[0m                                 Traceback (most recent call last)",
      "\u001b[1;32m<ipython-input-42-0bbbbda9a515>\u001b[0m in \u001b[0;36m<module>\u001b[1;34m\u001b[0m\n\u001b[0;32m      1\u001b[0m \u001b[0mX_tfidf\u001b[0m\u001b[1;33m\u001b[0m\u001b[1;33m\u001b[0m\u001b[0m\n\u001b[0;32m      2\u001b[0m \u001b[0mfeature_names\u001b[0m \u001b[1;33m=\u001b[0m \u001b[0mtf\u001b[0m\u001b[1;33m.\u001b[0m\u001b[0mget_feature_names\u001b[0m\u001b[1;33m(\u001b[0m\u001b[1;33m)\u001b[0m\u001b[1;33m\u001b[0m\u001b[1;33m\u001b[0m\u001b[0m\n\u001b[1;32m----> 3\u001b[1;33m \u001b[0mfeature_index\u001b[0m \u001b[1;33m=\u001b[0m \u001b[0mtfidf_matrix\u001b[0m\u001b[1;33m[\u001b[0m\u001b[0mdoc\u001b[0m\u001b[1;33m,\u001b[0m\u001b[1;33m:\u001b[0m\u001b[1;33m]\u001b[0m\u001b[1;33m.\u001b[0m\u001b[0mnonzero\u001b[0m\u001b[1;33m(\u001b[0m\u001b[1;33m)\u001b[0m\u001b[1;33m[\u001b[0m\u001b[1;36m1\u001b[0m\u001b[1;33m]\u001b[0m\u001b[1;33m\u001b[0m\u001b[1;33m\u001b[0m\u001b[0m\n\u001b[0m\u001b[0;32m      4\u001b[0m \u001b[0mtfidf_scores\u001b[0m \u001b[1;33m=\u001b[0m \u001b[0mzip\u001b[0m\u001b[1;33m(\u001b[0m\u001b[0mfeature_index\u001b[0m\u001b[1;33m,\u001b[0m \u001b[1;33m[\u001b[0m\u001b[0mtfidf_matrix\u001b[0m\u001b[1;33m[\u001b[0m\u001b[0mdoc\u001b[0m\u001b[1;33m,\u001b[0m \u001b[0mx\u001b[0m\u001b[1;33m]\u001b[0m \u001b[1;32mfor\u001b[0m \u001b[0mx\u001b[0m \u001b[1;32min\u001b[0m \u001b[0mfeature_index\u001b[0m\u001b[1;33m]\u001b[0m\u001b[1;33m)\u001b[0m\u001b[1;33m\u001b[0m\u001b[1;33m\u001b[0m\u001b[0m\n",
      "\u001b[1;31mNameError\u001b[0m: name 'doc' is not defined"
     ]
    }
   ],
   "source": [
    "X_tfidf\n",
    "feature_names = tf.get_feature_names()\n",
    "feature_index = tfidf_matrix[doc,:].nonzero()[1]\n",
    "tfidf_scores = zip(feature_index, [tfidf_matrix[doc, x] for x in feature_index])"
   ]
  },
  {
   "cell_type": "code",
   "execution_count": 39,
   "metadata": {},
   "outputs": [
    {
     "data": {
      "text/plain": [
       "['supplementalservicingai',\n",
       " 'sync',\n",
       " 'sys',\n",
       " 'system',\n",
       " 'system32',\n",
       " 'systemapps',\n",
       " 'systemresources',\n",
       " 'systems',\n",
       " 'syswow64',\n",
       " 'table',\n",
       " 'tables',\n",
       " 'tag',\n",
       " 'target',\n",
       " 'target_netbios_name',\n",
       " 'targetfilelength',\n",
       " 'text',\n",
       " 'the',\n",
       " 'thumbnail',\n",
       " 'tifilefetcher',\n",
       " 'time',\n",
       " 'timestamps',\n",
       " 'tm',\n",
       " 'tm_31bf3856ad364e35_10',\n",
       " 'tmlrendering',\n",
       " 'tocolimplementation_31bf3856ad364e35_11',\n",
       " 'tool',\n",
       " 'trc',\n",
       " 'tsworkspace',\n",
       " 'tws',\n",
       " 'txf',\n",
       " 'txt',\n",
       " 'ty',\n",
       " 'type',\n",
       " 'ui',\n",
       " 'ultimate',\n",
       " 'undefined',\n",
       " 'unit',\n",
       " 'units',\n",
       " 'unix',\n",
       " 'unknown',\n",
       " 'unsigned',\n",
       " 'up',\n",
       " 'update',\n",
       " 'urlmon',\n",
       " 'user',\n",
       " 'users',\n",
       " 'utf',\n",
       " 'utilities',\n",
       " 'v4',\n",
       " 'v6iygfzueqiqxhbmgcaijuezddwhsayecyejkgggbrugdq4p',\n",
       " 'vadsharedvoiceagents',\n",
       " 'value',\n",
       " 'values',\n",
       " 'vch',\n",
       " 'vendor',\n",
       " 'version',\n",
       " 'vert',\n",
       " 'viab',\n",
       " 'vnd',\n",
       " 'voiceagentscommon',\n",
       " 'volumelabel',\n",
       " 'volumeserial',\n",
       " 'volumetype',\n",
       " 'wanarp',\n",
       " 'wbemcore',\n",
       " 'wcp',\n",
       " 'web',\n",
       " 'webapi_31bf3856ad364e35_10',\n",
       " 'webcheck',\n",
       " 'webplatstorageserver',\n",
       " 'weighted',\n",
       " 'wer',\n",
       " 'white',\n",
       " 'width',\n",
       " 'win32appinventorycsp',\n",
       " 'wincorlib',\n",
       " 'windows',\n",
       " 'windows10',\n",
       " 'windows_31bf3856ad364e35_10',\n",
       " 'winexe',\n",
       " 'wininet',\n",
       " 'winsxs',\n",
       " 'wintypes',\n",
       " 'woods',\n",
       " 'worker',\n",
       " 'workingdirectory',\n",
       " 'workspace_31bf3856ad364e35_10',\n",
       " 'wow64_adobe',\n",
       " 'wow64_microsoft',\n",
       " 'wpaxholder',\n",
       " 'wpnidm',\n",
       " 'x64',\n",
       " 'x64_4',\n",
       " 'x86_microsoft',\n",
       " 'xbf',\n",
       " 'xml',\n",
       " 'xyz',\n",
       " 'ycbcr',\n",
       " 'zone',\n",
       " 'zoom']"
      ]
     },
     "execution_count": 39,
     "metadata": {},
     "output_type": "execute_result"
    }
   ],
   "source": [
    "feature_names[-100:]"
   ]
  },
  {
   "cell_type": "code",
   "execution_count": null,
   "metadata": {},
   "outputs": [],
   "source": []
  }
 ],
 "metadata": {
  "kernelspec": {
   "display_name": "Python 3",
   "language": "python",
   "name": "python3"
  },
  "language_info": {
   "codemirror_mode": {
    "name": "ipython",
    "version": 3
   },
   "file_extension": ".py",
   "mimetype": "text/x-python",
   "name": "python",
   "nbconvert_exporter": "python",
   "pygments_lexer": "ipython3",
   "version": "3.7.5"
  },
  "pycharm": {
   "stem_cell": {
    "cell_type": "raw",
    "metadata": {
     "collapsed": false
    },
    "source": []
   }
  }
 },
 "nbformat": 4,
 "nbformat_minor": 1
}
