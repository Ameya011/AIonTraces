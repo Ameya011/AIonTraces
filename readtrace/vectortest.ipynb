{
 "cells": [
  {
   "cell_type": "code",
   "execution_count": 110,
   "metadata": {
    "pycharm": {
     "is_executing": false
    }
   },
   "outputs": [],
   "source": [
    "# Import relevant packages\n",
    "import sklearn\n",
    "import numpy as np\n",
    "from sklearn.feature_extraction.text import CountVectorizer, TfidfVectorizer"
   ]
  },
  {
   "cell_type": "code",
   "execution_count": 159,
   "metadata": {},
   "outputs": [],
   "source": [
    "# read the data set\n",
    "\n",
    "dataset = []\n",
    "fns = []\n",
    "for line in open('dataset-example.csv'):\n",
    "    fn, txt = line.split('|')\n",
    "    fns.append(fn)\n",
    "    dataset.append(txt)"
   ]
  },
  {
   "cell_type": "code",
   "execution_count": 160,
   "metadata": {},
   "outputs": [],
   "source": [
    "# Perform tfidf vecotrization\n",
    "\n",
    "count_vect = CountVectorizer()\n",
    "X_train_counts = count_vect.fit_transform(dataset)\n",
    "tf = TfidfVectorizer()\n",
    "tfidf_matrix = tf.fit_transform(dataset)"
   ]
  },
  {
   "cell_type": "code",
   "execution_count": 161,
   "metadata": {},
   "outputs": [],
   "source": [
    "# Feature score for a document\n",
    "def tfidfscores(doc):\n",
    "    feature_names = np.array(tf.get_feature_names())\n",
    "    feature_index = tfidf_matrix[doc,:].nonzero()[1]\n",
    "    tfidf_scores = list(zip(feature_names[feature_index], [tfidf_matrix[doc, x] for x in feature_index]))\n",
    "    return sorted(tfidf_scores, reverse=True, key=lambda x:x[1])"
   ]
  },
  {
   "cell_type": "code",
   "execution_count": 166,
   "metadata": {},
   "outputs": [],
   "source": [
    "# sum of feature scores for multiple documents\n",
    "def tfidfsum(docs, tf, tfidf_matrix):\n",
    "    feature_names = np.array(tf.get_feature_names())\n",
    "    feature_sum = np.zeros(tfidf_matrix[0,:].shape)\n",
    "    for doc in docs:\n",
    "        feature_sum += tfidf_matrix[doc,:]\n",
    "    feature_index = feature_sum.nonzero()[1]\n",
    "    tfidf_scores = list(zip(feature_names[feature_index], [float(feature_sum[:,x]) for x in feature_index]))\n",
    "    return sorted(tfidf_scores, reverse=True, key=lambda x:x[1])"
   ]
  },
  {
   "cell_type": "code",
   "execution_count": 167,
   "metadata": {},
   "outputs": [
    {
     "data": {
      "text/plain": [
       "[('100z', 0.47297681863515967),\n",
       " ('xbf', 0.2719316280319375),\n",
       " ('navigationlandingpage', 0.26329924349992306),\n",
       " ('file', 0.25242879037344956),\n",
       " ('06', 0.24122782363508824),\n",
       " ('01', 0.2320791451017774),\n",
       " ('957z', 0.18286674095289332),\n",
       " ('278z', 0.17831090991578907),\n",
       " ('data', 0.17405935882633305),\n",
       " ('raw', 0.17405935882633305),\n",
       " ('2019', 0.1547194300678516),\n",
       " ('filename', 0.14580217006568727),\n",
       " ('ntfs', 0.14580217006568727),\n",
       " ('timestamps', 0.14580217006568727),\n",
       " ('14', 0.14492840519793063),\n",
       " ('177389', 0.13164962174996153),\n",
       " ('2200', 0.13164962174996153),\n",
       " ('311080', 0.13164962174996153),\n",
       " ('49f39a7481a7e77140421355dc8398ce3ab8bfa45f1cbaf422041a1240e34cbf',\n",
       "  0.13164962174996153),\n",
       " ('7e66eb3ea43016930b37c2f5562c4af5', 0.13164962174996153),\n",
       " ('f36ae68a8d7d31753f462d68f3d4d49e65c5c9fe', 0.13164962174996153),\n",
       " ('01t05', 0.12884424146219328),\n",
       " ('14t16', 0.10888156529043638),\n",
       " ('secureassessmentbrowser_cw5n1h2txyewy', 0.10329076730357614),\n",
       " ('59', 0.09100572474976847),\n",
       " ('00', 0.08982456862182565),\n",
       " ('13', 0.08688544456662242),\n",
       " ('14t21', 0.0826755760625814),\n",
       " ('systemapps', 0.07685547751833532),\n",
       " ('windows', 0.07234184843565734),\n",
       " ('octet', 0.07188191605443457),\n",
       " ('stream', 0.07188191605443457),\n",
       " ('hash', 0.05801978627544435),\n",
       " ('microsoft', 0.04097852205772005),\n",
       " ('changedon', 0.03883519851899224),\n",
       " ('accessedon', 0.03875745003549443),\n",
       " ('createdon', 0.03875745003549443),\n",
       " ('modifiedon', 0.0386798575169629),\n",
       " ('1831038044', 0.037070618006050944),\n",
       " ('1853292631', 0.037070618006050944),\n",
       " ('2271478464', 0.037070618006050944),\n",
       " ('3418522649', 0.037070618006050944),\n",
       " ('80', 0.037070618006050944),\n",
       " ('956008885', 0.037070618006050944),\n",
       " ('other', 0.03575893382464406),\n",
       " ('application', 0.02041575310613138),\n",
       " ('extension', 0.01961315126689863),\n",
       " ('entryid', 0.01947605752695253),\n",
       " ('name', 0.01941759925949612),\n",
       " ('owner', 0.01941759925949612),\n",
       " ('path', 0.01941759925949612),\n",
       " ('entropy', 0.01933992875848145),\n",
       " ('filetype', 0.01933992875848145),\n",
       " ('hashmisses', 0.01933992875848145),\n",
       " ('hveicse', 0.01933992875848145),\n",
       " ('lkpdb_kp', 0.01933992875848145),\n",
       " ('md5', 0.01933992875848145),\n",
       " ('mimeclass', 0.01933992875848145),\n",
       " ('mimetype', 0.01933992875848145),\n",
       " ('nsrl', 0.01933992875848145),\n",
       " ('sha1', 0.01933992875848145),\n",
       " ('sha256', 0.01933992875848145),\n",
       " ('size', 0.01933992875848145)]"
      ]
     },
     "execution_count": 167,
     "metadata": {},
     "output_type": "execute_result"
    }
   ],
   "source": [
    "tfidfsum((45,), tf, tfidf_matrix)"
   ]
  },
  {
   "cell_type": "code",
   "execution_count": null,
   "metadata": {},
   "outputs": [],
   "source": []
  },
  {
   "cell_type": "code",
   "execution_count": null,
   "metadata": {},
   "outputs": [],
   "source": []
  }
 ],
 "metadata": {
  "kernelspec": {
   "display_name": "Python 3",
   "language": "python",
   "name": "python3"
  },
  "language_info": {
   "codemirror_mode": {
    "name": "ipython",
    "version": 3
   },
   "file_extension": ".py",
   "mimetype": "text/x-python",
   "name": "python",
   "nbconvert_exporter": "python",
   "pygments_lexer": "ipython3",
   "version": "3.7.5"
  },
  "pycharm": {
   "stem_cell": {
    "cell_type": "raw",
    "metadata": {
     "collapsed": false
    },
    "source": []
   }
  }
 },
 "nbformat": 4,
 "nbformat_minor": 1
}
